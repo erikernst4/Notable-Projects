{
 "cells": [
  {
   "cell_type": "markdown",
   "metadata": {},
   "source": [
    "# Correr experimentos\n",
    "En este archivo está el código para correr los experimentos y escribir los resultados en archivos CSV.\n",
    "> Los archivos se guardan en la carpeta _resultados_."
   ]
  },
  {
   "cell_type": "code",
   "execution_count": 1,
   "metadata": {},
   "outputs": [],
   "source": [
    "import math, subprocess\n",
    "import pandas as pd\n",
    "import numpy as np\n",
    "from IPython.display import display, clear_output\n",
    "from sklearn.model_selection import train_test_split"
   ]
  },
  {
   "cell_type": "markdown",
   "metadata": {},
   "source": [
    "A continuación leemos los datasets en dataframes de Pandas."
   ]
  },
  {
   "cell_type": "code",
   "execution_count": 2,
   "metadata": {},
   "outputs": [
    {
     "data": {
      "text/html": [
       "<div>\n",
       "<style scoped>\n",
       "    .dataframe tbody tr th:only-of-type {\n",
       "        vertical-align: middle;\n",
       "    }\n",
       "\n",
       "    .dataframe tbody tr th {\n",
       "        vertical-align: top;\n",
       "    }\n",
       "\n",
       "    .dataframe thead th {\n",
       "        text-align: right;\n",
       "    }\n",
       "</style>\n",
       "<table border=\"1\" class=\"dataframe\">\n",
       "  <thead>\n",
       "    <tr style=\"text-align: right;\">\n",
       "      <th></th>\n",
       "      <th>dataset</th>\n",
       "      <th>n</th>\n",
       "      <th>m</th>\n",
       "      <th>archivo</th>\n",
       "    </tr>\n",
       "  </thead>\n",
       "  <tbody>\n",
       "    <tr>\n",
       "      <th>0</th>\n",
       "      <td>aleatorias</td>\n",
       "      <td>10</td>\n",
       "      <td>45</td>\n",
       "      <td>instancias/aleatorias/RAND-(10, 0).txt</td>\n",
       "    </tr>\n",
       "    <tr>\n",
       "      <th>1</th>\n",
       "      <td>aleatorias</td>\n",
       "      <td>10</td>\n",
       "      <td>45</td>\n",
       "      <td>instancias/aleatorias/RAND-(10, 1).txt</td>\n",
       "    </tr>\n",
       "    <tr>\n",
       "      <th>2</th>\n",
       "      <td>aleatorias</td>\n",
       "      <td>10</td>\n",
       "      <td>45</td>\n",
       "      <td>instancias/aleatorias/RAND-(10, 2).txt</td>\n",
       "    </tr>\n",
       "    <tr>\n",
       "      <th>3</th>\n",
       "      <td>aleatorias</td>\n",
       "      <td>10</td>\n",
       "      <td>45</td>\n",
       "      <td>instancias/aleatorias/RAND-(10, 3).txt</td>\n",
       "    </tr>\n",
       "    <tr>\n",
       "      <th>4</th>\n",
       "      <td>aleatorias</td>\n",
       "      <td>10</td>\n",
       "      <td>45</td>\n",
       "      <td>instancias/aleatorias/RAND-(10, 4).txt</td>\n",
       "    </tr>\n",
       "  </tbody>\n",
       "</table>\n",
       "</div>"
      ],
      "text/plain": [
       "      dataset   n   m                                 archivo\n",
       "0  aleatorias  10  45  instancias/aleatorias/RAND-(10, 0).txt\n",
       "1  aleatorias  10  45  instancias/aleatorias/RAND-(10, 1).txt\n",
       "2  aleatorias  10  45  instancias/aleatorias/RAND-(10, 2).txt\n",
       "3  aleatorias  10  45  instancias/aleatorias/RAND-(10, 3).txt\n",
       "4  aleatorias  10  45  instancias/aleatorias/RAND-(10, 4).txt"
      ]
     },
     "execution_count": 2,
     "metadata": {},
     "output_type": "execute_result"
    }
   ],
   "source": [
    "def leer_instancia(path_instancia):\n",
    "    with open(path_instancia, \"r\") as f:\n",
    "        return f.read();\n",
    "\n",
    "\n",
    "df_instancias_aleatorias = pd.read_csv(\"instancias/aleatorias/indice.csv\");\n",
    "df_instancias_aleatorias_complejidad = pd.read_csv(\"instancias/aleatorias/complejidad/indice.csv\");\n",
    "df_instancias_tsplib = pd.read_csv(\"instancias/tsplib/indice.csv\");\n",
    "df_instancias_malo_agm_vec = pd.read_csv(\"instancias/malo-agm-vec/indice.csv\");\n",
    "df_instancias_aleatorias.head()"
   ]
  },
  {
   "cell_type": "markdown",
   "metadata": {},
   "source": [
    "La siguiente función sirve para correr el código sobre una instancia ejecutando un método en particular.\n",
    "- SEC: Heurística secuencial.\n",
    "- VEC: Heurística vecindad.\n",
    "- TABU: Tabú con memoria basada en soluciones exploradas.\n",
    "- TABU_V: Tabú con memoria basada en estructura (vértices)."
   ]
  },
  {
   "cell_type": "code",
   "execution_count": 3,
   "metadata": {},
   "outputs": [],
   "source": [
    "def correr_experimento(metodo, archivo_instancia):\n",
    "    # Leer archivo de la instancia.\n",
    "    instancia = leer_instancia(archivo_instancia)\n",
    "    \n",
    "    # Crear proceso para ejecutar el codigo.\n",
    "    process = subprocess.Popen([\"../tp\", metodo], stderr=subprocess.PIPE, stdout=subprocess.PIPE, stdin=subprocess.PIPE, universal_newlines = True)\n",
    "\n",
    "    # Poner la instancia en la entrada estandar.\n",
    "    process.stdin.write(instancia)\n",
    "    process.stdin.flush()\n",
    "\n",
    "    # Correr experimento.\n",
    "    exit_code = process.wait()\n",
    "\n",
    "    # Verificar que el proceso no fallo.\n",
    "    if exit_code != 0: raise ValueError(F\"Hubo un error en la experimentacion para el algoritmo: {metodo} con la instancia {archivo_instancia}.\")\n",
    "    # Leer salida de STDERR con los tiempos de ejecucion de cada metodo.\n",
    "    tiempo_de_ejecucion = float(process.stderr.read());\n",
    "    \n",
    "    # Leer salida de STDOUT con el costo del camino que encontro\n",
    "    costo_camino = int(process.stdout.read().split('\\n')[0].split(' ')[1]);\n",
    "    \n",
    "    process.stdin.close();\n",
    "    process.stdout.close();\n",
    "    process.stderr.close();\n",
    "    \n",
    "    return [tiempo_de_ejecucion, costo_camino];"
   ]
  },
  {
   "cell_type": "code",
   "execution_count": 4,
   "metadata": {},
   "outputs": [],
   "source": [
    "def correr_experimento_tabu(metodo, k, cant_iteraciones, porcentaje, archivo_instancia):\n",
    "    # Leer archivo de la instancia.\n",
    "    instancia = leer_instancia(archivo_instancia)\n",
    "    \n",
    "    # Crear proceso para ejecutar el codigo.\n",
    "    process = subprocess.Popen([\"../tp\", metodo, k, cant_iteraciones, porcentaje], stderr=subprocess.PIPE, stdout=subprocess.PIPE, stdin=subprocess.PIPE, universal_newlines = True)\n",
    "\n",
    "    # Poner la instancia en la entrada estandar.\n",
    "    process.stdin.write(instancia)\n",
    "    process.stdin.flush()\n",
    "\n",
    "    # Correr experimento.\n",
    "    exit_code = process.wait()\n",
    "\n",
    "    # Verificar que el proceso no fallo.\n",
    "    if exit_code != 0:\n",
    "        raise ValueError(F\"Hubo un error en la experimentacion para el algoritmo: {metodo} con la instancia {archivo_instancia}.\" + metodo_vecindario + ' ' + k + ' ' + cant_iteraciones + process.stderr.read())\n",
    "    \n",
    "    # Leer salida de STDERR con los tiempos de ejecucion de cada metodo.\n",
    "    tiempo_de_ejecucion = float(process.stderr.read());\n",
    "    \n",
    "    # Leer salida de STDOUT con el impacto que obtuvo el algoritmo\n",
    "    \n",
    "    costo_camino = int(process.stdout.read().split('\\n')[0].split(' ')[1]);\n",
    "    \n",
    "    process.stdin.close();\n",
    "    process.stdout.close();\n",
    "    process.stderr.close();\n",
    "    \n",
    "    return [tiempo_de_ejecucion, costo_camino];"
   ]
  },
  {
   "cell_type": "markdown",
   "metadata": {},
   "source": [
    "## Corremos los experimentos\n",
    "Vamos a guardar una tabla con las ejecuciones y sus respectivos tiempos."
   ]
  },
  {
   "cell_type": "code",
   "execution_count": 32,
   "metadata": {},
   "outputs": [],
   "source": [
    "experimentos = [];"
   ]
  },
  {
   "cell_type": "markdown",
   "metadata": {},
   "source": [
    "### Experimento 1, instancias tsplib"
   ]
  },
  {
   "cell_type": "markdown",
   "metadata": {},
   "source": [
    "Heurística AGM"
   ]
  },
  {
   "cell_type": "code",
   "execution_count": 21,
   "metadata": {},
   "outputs": [],
   "source": [
    "for i in range(df_instancias_tsplib.shape[0]):\n",
    "    fila_i = df_instancias_tsplib.iloc[i];\n",
    "    experimentos.append([fila_i[\"dataset\"], fila_i[\"n\"], fila_i[\"m\"], \"AGM\", fila_i[\"archivo\"], fila_i[\"optimo\"]]);"
   ]
  },
  {
   "cell_type": "markdown",
   "metadata": {},
   "source": [
    "Heurística inserción"
   ]
  },
  {
   "cell_type": "code",
   "execution_count": 22,
   "metadata": {},
   "outputs": [],
   "source": [
    "for i in range(df_instancias_tsplib.shape[0]):\n",
    "    fila_i = df_instancias_tsplib.iloc[i];\n",
    "    experimentos.append([fila_i[\"dataset\"], fila_i[\"n\"], fila_i[\"m\"], \"INS\", fila_i[\"archivo\"], fila_i[\"optimo\"]]);"
   ]
  },
  {
   "cell_type": "markdown",
   "metadata": {},
   "source": [
    "Heurística vecindad"
   ]
  },
  {
   "cell_type": "code",
   "execution_count": 23,
   "metadata": {},
   "outputs": [],
   "source": [
    "for i in range(df_instancias_tsplib.shape[0]):\n",
    "    fila_i = df_instancias_tsplib.iloc[i];\n",
    "    experimentos.append([fila_i[\"dataset\"], fila_i[\"n\"], fila_i[\"m\"], \"VEC\", fila_i[\"archivo\"], fila_i[\"optimo\"]]);"
   ]
  },
  {
   "cell_type": "code",
   "execution_count": 24,
   "metadata": {},
   "outputs": [],
   "source": [
    "for i in range(df_instancias_tsplib.shape[0]):\n",
    "    fila_i = df_instancias_tsplib.iloc[i];\n",
    "    experimentos.append([fila_i[\"dataset\"], fila_i[\"n\"], fila_i[\"m\"], \"TABU_A\", fila_i[\"archivo\"], fila_i[\"optimo\"], 3, 7]);\n",
    "    \n",
    "for i in range(df_instancias_tsplib.shape[0]):\n",
    "    fila_i = df_instancias_tsplib.iloc[i];\n",
    "    experimentos.append([fila_i[\"dataset\"], fila_i[\"n\"], fila_i[\"m\"], \"TABU_S\", fila_i[\"archivo\"], fila_i[\"optimo\"], 3, 7]);"
   ]
  },
  {
   "cell_type": "code",
   "execution_count": 25,
   "metadata": {},
   "outputs": [
    {
     "name": "stdout",
     "output_type": "stream",
     "text": [
      "['instancias-tsplib', 29, 406, 'AGM', 'instancias/tsplib/bays29.tsp.txt', 2020]\n",
      "['instancias-tsplib', 52, 1326, 'AGM', 'instancias/tsplib/berlin52.tsp.txt', 7542]\n",
      "['instancias-tsplib', 14, 91, 'AGM', 'instancias/tsplib/burma14.tsp.txt', 3323]\n",
      "['instancias-tsplib', 130, 8385, 'AGM', 'instancias/tsplib/ch130.tsp.txt', 6110]\n",
      "['instancias-tsplib', 29, 406, 'INS', 'instancias/tsplib/bays29.tsp.txt', 2020]\n",
      "['instancias-tsplib', 52, 1326, 'INS', 'instancias/tsplib/berlin52.tsp.txt', 7542]\n",
      "['instancias-tsplib', 14, 91, 'INS', 'instancias/tsplib/burma14.tsp.txt', 3323]\n",
      "['instancias-tsplib', 130, 8385, 'INS', 'instancias/tsplib/ch130.tsp.txt', 6110]\n",
      "['instancias-tsplib', 29, 406, 'VEC', 'instancias/tsplib/bays29.tsp.txt', 2020]\n",
      "['instancias-tsplib', 52, 1326, 'VEC', 'instancias/tsplib/berlin52.tsp.txt', 7542]\n",
      "['instancias-tsplib', 14, 91, 'VEC', 'instancias/tsplib/burma14.tsp.txt', 3323]\n",
      "['instancias-tsplib', 130, 8385, 'VEC', 'instancias/tsplib/ch130.tsp.txt', 6110]\n",
      "['instancias-tsplib', 29, 406, 'TABU_A', 'instancias/tsplib/bays29.tsp.txt', 2020, 3, 7]\n",
      "['instancias-tsplib', 52, 1326, 'TABU_A', 'instancias/tsplib/berlin52.tsp.txt', 7542, 3, 7]\n",
      "['instancias-tsplib', 14, 91, 'TABU_A', 'instancias/tsplib/burma14.tsp.txt', 3323, 3, 7]\n",
      "['instancias-tsplib', 130, 8385, 'TABU_A', 'instancias/tsplib/ch130.tsp.txt', 6110, 3, 7]\n",
      "['instancias-tsplib', 29, 406, 'TABU_S', 'instancias/tsplib/bays29.tsp.txt', 2020, 3, 7]\n",
      "['instancias-tsplib', 52, 1326, 'TABU_S', 'instancias/tsplib/berlin52.tsp.txt', 7542, 3, 7]\n",
      "['instancias-tsplib', 14, 91, 'TABU_S', 'instancias/tsplib/burma14.tsp.txt', 3323, 3, 7]\n",
      "['instancias-tsplib', 130, 8385, 'TABU_S', 'instancias/tsplib/ch130.tsp.txt', 6110, 3, 7]\n"
     ]
    }
   ],
   "source": []
  },
  {
   "cell_type": "markdown",
   "metadata": {},
   "source": [
    "### Experimento 2, instancias aleatorias"
   ]
  },
  {
   "cell_type": "markdown",
   "metadata": {},
   "source": [
    "Heurística AGM"
   ]
  },
  {
   "cell_type": "code",
   "execution_count": 26,
   "metadata": {},
   "outputs": [],
   "source": [
    "for i in range(df_instancias_aleatorias.shape[0]):\n",
    "    fila_i = df_instancias_aleatorias.iloc[i];\n",
    "    experimentos.append([fila_i[\"dataset\"], fila_i[\"n\"], fila_i[\"m\"], \"AGM\", fila_i[\"archivo\"]]);"
   ]
  },
  {
   "cell_type": "markdown",
   "metadata": {},
   "source": [
    "Heurística vecindad"
   ]
  },
  {
   "cell_type": "code",
   "execution_count": 27,
   "metadata": {},
   "outputs": [],
   "source": [
    "for i in range(df_instancias_aleatorias.shape[0]):\n",
    "    fila_i = df_instancias_aleatorias.iloc[i];\n",
    "    experimentos.append([fila_i[\"dataset\"], fila_i[\"n\"], fila_i[\"m\"], \"VEC\", fila_i[\"archivo\"]]);"
   ]
  },
  {
   "cell_type": "markdown",
   "metadata": {},
   "source": [
    "Heurística inserción"
   ]
  },
  {
   "cell_type": "code",
   "execution_count": 28,
   "metadata": {},
   "outputs": [],
   "source": [
    "for i in range(df_instancias_aleatorias.shape[0]):\n",
    "    fila_i = df_instancias_aleatorias.iloc[i];\n",
    "    experimentos.append([fila_i[\"dataset\"], fila_i[\"n\"], fila_i[\"m\"], \"INS\", fila_i[\"archivo\"]]);"
   ]
  },
  {
   "cell_type": "markdown",
   "metadata": {},
   "source": [
    "metaheuristica tabu con memoria de aristas"
   ]
  },
  {
   "cell_type": "code",
   "execution_count": 29,
   "metadata": {},
   "outputs": [],
   "source": [
    "for i in range(df_instancias_aleatorias.shape[0]):\n",
    "    fila_i = df_instancias_aleatorias.iloc[i];\n",
    "    experimentos.append([fila_i[\"dataset\"], fila_i[\"n\"], fila_i[\"m\"], \"TABU_A\", fila_i[\"archivo\"], 3, 5]);"
   ]
  },
  {
   "cell_type": "markdown",
   "metadata": {},
   "source": [
    "metaheuristica tabu con memoria de soluciones"
   ]
  },
  {
   "cell_type": "code",
   "execution_count": 30,
   "metadata": {},
   "outputs": [],
   "source": [
    "for i in range(df_instancias_aleatorias.shape[0]):\n",
    "    fila_i = df_instancias_aleatorias.iloc[i];\n",
    "    experimentos.append([fila_i[\"dataset\"], fila_i[\"n\"], fila_i[\"m\"], \"TABU_S\", fila_i[\"archivo\"], 3, 5]);"
   ]
  },
  {
   "cell_type": "markdown",
   "metadata": {},
   "source": [
    "## Ejecutar los experimentos y guardar los resultados en un archivo CSV.\n",
    "Este paso puede tardar unos minutos hasta terminar de ejecutarse."
   ]
  },
  {
   "cell_type": "code",
   "execution_count": 35,
   "metadata": {},
   "outputs": [
    {
     "data": {
      "text/plain": [
       "'Experimento: 520/520'"
      ]
     },
     "metadata": {},
     "output_type": "display_data"
    },
    {
     "name": "stdout",
     "output_type": "stream",
     "text": [
      "3\n",
      "3\n",
      "3\n",
      "3\n",
      "3\n"
     ]
    }
   ],
   "source": [
    "columnas = [\"dataset\", \"n\", \"m\", \"metodo\", \"obtenido\", \"optimo\", \"gap_relativo\", \"tiempo\",\"k\",'iteraciones'];\n",
    "filas = [];\n",
    "numero = 1\n",
    "T = 5\n",
    "for experimento in experimentos:\n",
    "    # Voy mostrando que experimento se esta ejecutando.\n",
    "    clear_output(wait=True)\n",
    "    display('Experimento: ' + str(numero) + \"/\" + str(len(experimentos)))\n",
    "    numero += 1\n",
    "\n",
    "    # Ejecutamos el experimento T veces y obtenemos la mediana.\n",
    "\n",
    "    tiempos = []\n",
    "    costos_caminos = []\n",
    "    for i in range(T):\n",
    "        if experimento[3][0:4] == 'TABU':#tabu tiene su correr experimentos diferenciado\n",
    "            print(experimento[5])\n",
    "            resultados = correr_experimento_tabu(experimento[3], str(experimento[5]), str(experimento[6]), experimento[4]);\n",
    "            tiempos.append(resultados[0]);\n",
    "            costos_caminos.append(resultados[1]);\n",
    "        else:\n",
    "            resultados = correr_experimento(experimento[3], experimento[4]);\n",
    "            tiempos.append(resultados[0]);\n",
    "            costos_caminos.append(resultados[1]);\n",
    "    tiempo = np.median(tiempos);\n",
    "    obtenido = np.median(costos_caminos);\n",
    "    \n",
    "    if(experimento[0]==\"aleatorias\"):#si es aleatorio no tenemos los resultados verdaderos\n",
    "        optimo = '-'\n",
    "        gap_relativo = '-'\n",
    "        \n",
    "    if(experimento[0]==\"instancias-tsplib\"):#para las instancias de tsplib tenemos los resutados optimos para comparar\n",
    "        optimo = experimento[5]\n",
    "        gap_relativo = (obtenido-optimo)/optimo\n",
    "    \n",
    "    if experimento[3][0:4] != 'TABU':#si el metodo no es tabu, el k y la cantidad de iteraciones no importan\n",
    "        iteraciones = '-'\n",
    "        k = '-'\n",
    "    else:\n",
    "        k = experimento[6]\n",
    "        iteraciones = experimento[6]\n",
    "    \n",
    "    filas.append([experimento[0], experimento[1], experimento[2], experimento[3], obtenido, optimo, gap_relativo, tiempo, k, iteraciones]);\n",
    "df_resultado = pd.DataFrame(filas, columns=columnas);\n",
    "df_resultado.to_csv(\"resultados/resultado.csv\", index=False, header=True);"
   ]
  },
  {
   "cell_type": "code",
   "execution_count": null,
   "metadata": {},
   "outputs": [],
   "source": [
    "porcentajes = [0.2, 0.4, 0.6, 0.8, 1]\n",
    "for i in range(df_instancias_tsplib.shape[0]):\n",
    "    fila_i = df_instancias_tsplib.iloc[i];\n",
    "    n = fila_i[\"n\"]\n",
    "    paso = (n * 10) //100 #10% de n\n",
    "    paso = max(1, paso)\n",
    "    for k in range(0, n+1, paso):\n",
    "        for _iter in range(0, 15):\n",
    "            for porcentaje in porcentajes:\n",
    "                tabu_train.append([fila_i[\"dataset\"], fila_i[\"n\"], fila_i[\"m\"], \"TABU_A\", fila_i[\"archivo\"], fila_i[\"optimo\"], k, _iter, porcentaje]);\n",
    "                tabu_train.append([fila_i[\"dataset\"], fila_i[\"n\"], fila_i[\"m\"], \"TABU_S\", fila_i[\"archivo\"], fila_i[\"optimo\"], k, _iter, porcentaje]);"
   ]
  },
  {
   "cell_type": "markdown",
   "metadata": {},
   "source": [
    "Experimento busqueda de mejores parametros"
   ]
  },
  {
   "cell_type": "code",
   "execution_count": 27,
   "metadata": {},
   "outputs": [],
   "source": [
    "tabu_train = []"
   ]
  },
  {
   "cell_type": "code",
   "execution_count": 28,
   "metadata": {},
   "outputs": [],
   "source": [
    "porcentajes = [0.2, 0.4, 0.6, 0.8, 1]\n",
    "for i in range(df_instancias_tsplib.shape[0] - 1, 0, -1):\n",
    "    fila_i = df_instancias_tsplib.iloc[i];\n",
    "    n = fila_i[\"n\"]\n",
    "    if n == 130:\n",
    "        continue;\n",
    "    elif n == 52:\n",
    "        paso = -4\n",
    "    elif n == 29:\n",
    "        paso = -2\n",
    "    else:\n",
    "        paso = -1\n",
    "    for k in range(n, 0, paso):\n",
    "        for _iter in range(30, 0, -2):\n",
    "            for porcentaje in porcentajes:\n",
    "                tabu_train.append([fila_i[\"dataset\"], fila_i[\"n\"], fila_i[\"m\"], \"TABU_A\", fila_i[\"archivo\"], fila_i[\"optimo\"], k, _iter, porcentaje]);\n",
    "                tabu_train.append([fila_i[\"dataset\"], fila_i[\"n\"], fila_i[\"m\"], \"TABU_S\", fila_i[\"archivo\"], fila_i[\"optimo\"], k, _iter, porcentaje]);"
   ]
  },
  {
   "cell_type": "code",
   "execution_count": 29,
   "metadata": {},
   "outputs": [
    {
     "data": {
      "text/plain": [
       "'Experimento: 4050/4050'"
      ]
     },
     "metadata": {},
     "output_type": "display_data"
    }
   ],
   "source": [
    "columnas = [\"dataset\", \"n\", \"m\", \"metodo\", \"obtenido\", \"optimo\", \"gap_relativo\", \"tiempo\",\"k\",'iteraciones', 'porcentaje'];\n",
    "filas = [];\n",
    "numero = 1\n",
    "T = 5\n",
    "for experimento in tabu_train:\n",
    "    # Voy mostrando que experimento se esta ejecutando.\n",
    "    clear_output(wait=True)\n",
    "    display('Experimento: ' + str(numero) + \"/\" + str(len(tabu_train)))\n",
    "    numero += 1\n",
    "\n",
    "    # Ejecutamos el experimento T veces y obtenemos la mediana.\n",
    "\n",
    "    tiempos = []\n",
    "    costos_caminos = []\n",
    "    for i in range(T):\n",
    "        if experimento[3][0:4] == 'TABU':#tabu tiene su correr experimentos diferenciado\n",
    "            resultados = correr_experimento_tabu(experimento[3], str(experimento[6]), str(experimento[7]), str(experimento[8]), experimento[4]);\n",
    "            tiempos.append(resultados[0]);\n",
    "            costos_caminos.append(resultados[1]);\n",
    "        else:\n",
    "            resultados = correr_experimento(experimento[3], experimento[4]);\n",
    "            tiempos.append(resultados[0]);\n",
    "            costos_caminos.append(resultados[1]);\n",
    "    tiempo = np.median(tiempos);\n",
    "    obtenido = np.median(costos_caminos);\n",
    "    \n",
    "    if(experimento[0]==\"aleatorias\" or experimento[0] == \"aleatorias-complejidad\"):#si es aleatorio no tenemos los resultados verdaderos\n",
    "        optimo = '-'\n",
    "        gap_relativo = '-'\n",
    "        \n",
    "    if(experimento[0]==\"instancias-tsplib\"):#para las instancias de tsplib tenemos los resutados optimos para comparar\n",
    "        optimo = experimento[5]\n",
    "        gap_relativo = (obtenido-optimo)/optimo\n",
    "    \n",
    "    if experimento[3][0:4] != 'TABU':#si el metodo no es tabu, el k y la cantidad de iteraciones no importan\n",
    "        iteraciones = '-'\n",
    "        k = '-'\n",
    "    else:\n",
    "        k = experimento[6]\n",
    "        iteraciones = experimento[7]\n",
    "        porcentaje = experimento[8]\n",
    "    \n",
    "    filas.append([experimento[0], experimento[1], experimento[2], experimento[3], obtenido, optimo, gap_relativo, tiempo, k, iteraciones, porcentaje]);\n",
    "df_resultado = pd.DataFrame(filas, columns=columnas);\n",
    "df_resultado.to_csv(\"resultados/resultado_tabu_parametros2.csv\", index=False, header=True);"
   ]
  },
  {
   "cell_type": "markdown",
   "metadata": {},
   "source": [
    "Experimento complejidades"
   ]
  },
  {
   "cell_type": "code",
   "execution_count": 30,
   "metadata": {},
   "outputs": [],
   "source": [
    "experimento_complejidades = []"
   ]
  },
  {
   "cell_type": "code",
   "execution_count": 31,
   "metadata": {},
   "outputs": [],
   "source": [
    "for i in range(df_instancias_aleatorias_complejidad.shape[0]):\n",
    "    fila_i = df_instancias_aleatorias_complejidad.iloc[i];\n",
    "    experimento_complejidades.append([fila_i[\"dataset\"], fila_i[\"n\"], fila_i[\"m\"], \"INS\", fila_i[\"archivo\"]]);\n",
    "    experimento_complejidades.append([fila_i[\"dataset\"], fila_i[\"n\"], fila_i[\"m\"], \"VEC\", fila_i[\"archivo\"]]);\n",
    "    experimento_complejidades.append([fila_i[\"dataset\"], fila_i[\"n\"], fila_i[\"m\"], \"AGM\", fila_i[\"archivo\"]]);\n",
    "    experimento_complejidades.append([fila_i[\"dataset\"], fila_i[\"n\"], fila_i[\"m\"], \"TABU_A\", fila_i[\"archivo\"], 3, 5]);\n",
    "    experimento_complejidades.append([fila_i[\"dataset\"], fila_i[\"n\"], fila_i[\"m\"], \"TABU_S\", fila_i[\"archivo\"], 3, 5]);"
   ]
  },
  {
   "cell_type": "code",
   "execution_count": 32,
   "metadata": {},
   "outputs": [
    {
     "data": {
      "text/plain": [
       "'Experimento: 535/535'"
      ]
     },
     "metadata": {},
     "output_type": "display_data"
    }
   ],
   "source": [
    "columnas = [\"dataset\", \"n\", \"m\", \"metodo\", \"obtenido\", \"optimo\", \"gap_relativo\", \"tiempo\",\"k\",'iteraciones'];\n",
    "filas = [];\n",
    "numero = 1\n",
    "T = 5\n",
    "for experimento in experimento_complejidades:\n",
    "    # Voy mostrando que experimento se esta ejecutando.\n",
    "    clear_output(wait=True)\n",
    "    display('Experimento: ' + str(numero) + \"/\" + str(len(experimento_complejidades)))\n",
    "    numero += 1\n",
    "\n",
    "    # Ejecutamos el experimento T veces y obtenemos la mediana.\n",
    "\n",
    "    tiempos = []\n",
    "    costos_caminos = []\n",
    "    for i in range(T):\n",
    "        if experimento[3][0:4] == 'TABU':#tabu tiene su correr experimentos diferenciado\n",
    "            resultados = correr_experimento_tabu(experimento[3], str(experimento[5]), str(experimento[6]), experimento[4]);\n",
    "            tiempos.append(resultados[0]);\n",
    "            costos_caminos.append(resultados[1]);\n",
    "        else:\n",
    "            resultados = correr_experimento(experimento[3], experimento[4]);\n",
    "            tiempos.append(resultados[0]);\n",
    "            costos_caminos.append(resultados[1]);\n",
    "    tiempo = np.median(tiempos);\n",
    "    obtenido = np.median(costos_caminos);\n",
    "    \n",
    "    if(experimento[0]==\"aleatorias\" or experimento[0] == \"aleatorias-complejidad\"):#si es aleatorio no tenemos los resultados verdaderos\n",
    "        optimo = '-'\n",
    "        gap_relativo = '-'\n",
    "        \n",
    "    if(experimento[0]==\"instancias-tsplib\"):#para las instancias de tsplib tenemos los resutados optimos para comparar\n",
    "        optimo = experimento[5]\n",
    "        gap_relativo = (obtenido-optimo)/optimo\n",
    "    \n",
    "    if experimento[3][0:4] != 'TABU':#si el metodo no es tabu, el k y la cantidad de iteraciones no importan\n",
    "        iteraciones = '-'\n",
    "        k = '-'\n",
    "    else:\n",
    "        k = experimento[5]\n",
    "        iteraciones = experimento[6]\n",
    "    \n",
    "    filas.append([experimento[0], experimento[1], experimento[2], experimento[3], obtenido, optimo, gap_relativo, tiempo, k, iteraciones]);\n",
    "df_resultado = pd.DataFrame(filas, columns=columnas);\n",
    "df_resultado.to_csv(\"resultados/resultado_complejidades.csv\", index=False, header=True);"
   ]
  },
  {
   "cell_type": "code",
   "execution_count": 23,
   "metadata": {},
   "outputs": [],
   "source": [
    "experimentos_complejidades_tabu = []"
   ]
  },
  {
   "cell_type": "code",
   "execution_count": 24,
   "metadata": {},
   "outputs": [],
   "source": [
    "porcentajes_i = range(0, 101)\n",
    "porcentajes = []\n",
    "for i in range(0,101):\n",
    "    porcentajes.append(porcentajes_i[i]/100)\n",
    "porcentajes[0] += 0.01\n",
    "iteraciones = range(0, 101)\n",
    "ks = range(0, 101)\n",
    "data = df_instancias_tsplib.iloc[2]"
   ]
  },
  {
   "cell_type": "code",
   "execution_count": 25,
   "metadata": {},
   "outputs": [],
   "source": [
    "for k in ks:\n",
    "    experimentos_complejidades_tabu.append([data[\"dataset\"], data[\"n\"], data[\"m\"], \"TABU_S\", data[\"archivo\"], data[\"optimo\"], k, 15, 1]);\n",
    "for _iter in iteraciones:\n",
    "    experimentos_complejidades_tabu.append([data[\"dataset\"], data[\"n\"], data[\"m\"], \"TABU_S\", data[\"archivo\"], data[\"optimo\"], 3, _iter, 0.3]);\n",
    "for porcentaje in porcentajes:\n",
    "    experimentos_complejidades_tabu.append([data[\"dataset\"], data[\"n\"], data[\"m\"], \"TABU_S\", data[\"archivo\"], data[\"optimo\"], 3, 5, porcentaje]);\n",
    "\n",
    "for k in ks:\n",
    "    experimentos_complejidades_tabu.append([data[\"dataset\"], data[\"n\"], data[\"m\"], \"TABU_A\", data[\"archivo\"], data[\"optimo\"], k, 5, 0.3]);\n",
    "for _iter in iteraciones:\n",
    "    experimentos_complejidades_tabu.append([data[\"dataset\"], data[\"n\"], data[\"m\"], \"TABU_A\", data[\"archivo\"], data[\"optimo\"], 3, _iter, 0.3]);\n",
    "for porcentaje in porcentajes:\n",
    "    experimentos_complejidades_tabu.append([data[\"dataset\"], data[\"n\"], data[\"m\"], \"TABU_A\", data[\"archivo\"], data[\"optimo\"], 3, 5, porcentaje]);"
   ]
  },
  {
   "cell_type": "code",
   "execution_count": 26,
   "metadata": {},
   "outputs": [
    {
     "data": {
      "text/plain": [
       "'Experimento: 606/606'"
      ]
     },
     "metadata": {},
     "output_type": "display_data"
    }
   ],
   "source": [
    "columnas = [\"dataset\", \"n\", \"m\", \"metodo\", \"obtenido\", \"optimo\", \"gap_relativo\", \"tiempo\",\"k\",'iteraciones', 'porcentaje'];\n",
    "filas = [];\n",
    "numero = 1\n",
    "T = 5\n",
    "for experimento in experimentos_complejidades_tabu:\n",
    "    # Voy mostrando que experimento se esta ejecutando.\n",
    "    clear_output(wait=True)\n",
    "    display('Experimento: ' + str(numero) + \"/\" + str(len(experimentos_complejidades_tabu)))\n",
    "    numero += 1\n",
    "\n",
    "    # Ejecutamos el experimento T veces y obtenemos la mediana.\n",
    "\n",
    "    tiempos = []\n",
    "    costos_caminos = []\n",
    "    for i in range(T):\n",
    "        if experimento[3][0:4] == 'TABU':#tabu tiene su correr experimentos diferenciado\n",
    "            resultados = correr_experimento_tabu(experimento[3], str(experimento[6]), str(experimento[7]), str(experimento[8]), experimento[4]);\n",
    "            tiempos.append(resultados[0]);\n",
    "            costos_caminos.append(resultados[1]);\n",
    "        else:\n",
    "            resultados = correr_experimento(experimento[3], experimento[4]);\n",
    "            tiempos.append(resultados[0]);\n",
    "            costos_caminos.append(resultados[1]);\n",
    "    tiempo = np.median(tiempos);\n",
    "    obtenido = np.median(costos_caminos);\n",
    "    \n",
    "    if(experimento[0]==\"aleatorias\" or experimento[0] == \"aleatorias-complejidad\"):#si es aleatorio no tenemos los resultados verdaderos\n",
    "        optimo = '-'\n",
    "        gap_relativo = '-'\n",
    "        \n",
    "    if(experimento[0]==\"instancias-tsplib\"):#para las instancias de tsplib tenemos los resutados optimos para comparar\n",
    "        optimo = experimento[5]\n",
    "        gap_relativo = (obtenido-optimo)/optimo\n",
    "    \n",
    "    if experimento[3][0:4] != 'TABU':#si el metodo no es tabu, el k y la cantidad de iteraciones no importan\n",
    "        iteraciones = '-'\n",
    "        k = '-'\n",
    "    else:\n",
    "        k = experimento[6]\n",
    "        iteraciones = experimento[7]\n",
    "        porcentaje = experimento[8]\n",
    "    \n",
    "    filas.append([experimento[0], experimento[1], experimento[2], experimento[3], obtenido, optimo, gap_relativo, tiempo, k, iteraciones, porcentaje]);\n",
    "df_resultado = pd.DataFrame(filas, columns=columnas);\n",
    "df_resultado.to_csv(\"resultados/resultado_tabu_complejidades.csv\", index=False, header=True);"
   ]
  },
  {
   "cell_type": "code",
   "execution_count": 34,
   "metadata": {},
   "outputs": [
    {
     "data": {
      "text/plain": [
       "'Experimento: 192/192'"
      ]
     },
     "metadata": {},
     "output_type": "display_data"
    }
   ],
   "source": [
    "### Experimento 3, instancias donde las heurísticas no dan bien\n",
    "experimentos_malos = []\n",
    "\n",
    "#Heurística VEC\n",
    "for i in range(df_instancias_malo_agm_vec.shape[0]):\n",
    "    fila_i = df_instancias_malo_agm_vec.iloc[i];\n",
    "    experimentos_malos.append([fila_i[\"dataset\"], fila_i[\"n\"], fila_i[\"m\"], \"VEC\", fila_i[\"archivo\"], fila_i[\"optimo\"], fila_i[\"esperado\"], fila_i[\"k\"]]);\n",
    "\n",
    "#Heurística AGM\n",
    "for i in range(df_instancias_malo_agm_vec.shape[0]):\n",
    "    fila_i = df_instancias_malo_agm_vec.iloc[i];\n",
    "    experimentos_malos.append([fila_i[\"dataset\"], fila_i[\"n\"], fila_i[\"m\"], \"AGM\", fila_i[\"archivo\"], fila_i[\"optimo\"], fila_i[\"esperado\"], fila_i[\"k\"]]);\n",
    "\n",
    "\n",
    "### Experimento casos malos \n",
    "columnas = [\"dataset\", \"n\", \"m\", \"metodo\", \"obtenido\", \"optimo\", \"esperado\", \"tiempo\",\"k\"];\n",
    "filas = [];\n",
    "numero = 1\n",
    "T = 5\n",
    "for experimento in experimentos_malos:\n",
    "    # Voy mostrando que experimento se esta ejecutando.\n",
    "    clear_output(wait=True)\n",
    "    display('Experimento: ' + str(numero) + \"/\" + str(len(experimentos_malos)))\n",
    "    numero += 1\n",
    "\n",
    "    # Ejecutamos el experimento T veces y obtenemos la mediana.\n",
    "    tiempos = []\n",
    "    costos_caminos = []\n",
    "    for i in range(T):\n",
    "        resultados = correr_experimento(experimento[3], experimento[4]);\n",
    "        tiempos.append(resultados[0]);\n",
    "        costos_caminos.append(resultados[1]);\n",
    "    tiempo = np.median(tiempos);\n",
    "    obtenido = np.median(costos_caminos);\n",
    "    filas.append([experimento[0], experimento[1], experimento[2], experimento[3], obtenido, experimento[5], experimento[6], tiempo, experimento[7]]);\n",
    "df_resultado = pd.DataFrame(filas, columns=columnas);\n",
    "df_resultado.to_csv(\"resultados/resultados_malos.csv\", index=False, header=True);"
   ]
  },
  {
   "cell_type": "code",
   "execution_count": null,
   "metadata": {},
   "outputs": [],
   "source": [
    "#exp5\n",
    "experimento5 = []\n",
    "for i in range(df_instancias_tsplib.shape[0]):\n",
    "    fila_i = df_instancias_tsplib.iloc[i];\n",
    "    if fila_i['n'] < 565:\n",
    "        continue;\n",
    "    experimento5.append([fila_i[\"dataset\"], fila_i[\"n\"], fila_i[\"m\"], \"VEC\", fila_i[\"archivo\"], fila_i[\"optimo\"]]);\n",
    "    experimento5.append([fila_i[\"dataset\"], fila_i[\"n\"], fila_i[\"m\"], \"INS\", fila_i[\"archivo\"], fila_i[\"optimo\"]]);\n",
    "    experimento5.append([fila_i[\"dataset\"], fila_i[\"n\"], fila_i[\"m\"], \"AGM\", fila_i[\"archivo\"], fila_i[\"optimo\"]]);\n",
    "    experimento5.append([fila_i[\"dataset\"], fila_i[\"n\"], fila_i[\"m\"], \"TABU_A\", fila_i[\"archivo\"], fila_i[\"optimo\"], 3, 30, 1]);\n",
    "    experimento5.append([fila_i[\"dataset\"], fila_i[\"n\"], fila_i[\"m\"], \"TABU_S\", fila_i[\"archivo\"], fila_i[\"optimo\"], 3, 20, 1]);\n",
    "    "
   ]
  },
  {
   "cell_type": "code",
   "execution_count": null,
   "metadata": {},
   "outputs": [],
   "source": [
    "columnas = [\"dataset\", \"n\", \"m\", \"metodo\", \"obtenido\", \"optimo\", \"gap_relativo\", \"tiempo\",\"k\",'iteraciones', 'porcentaje'];\n",
    "filas = [];\n",
    "numero = 1\n",
    "T = 5\n",
    "for experimento in experimento5:\n",
    "    # Voy mostrando que experimento se esta ejecutando.\n",
    "    clear_output(wait=True)\n",
    "    display('Experimento: ' + str(numero) + \"/\" + str(len(experimento5)))\n",
    "    numero += 1\n",
    "\n",
    "    # Ejecutamos el experimento T veces y obtenemos la mediana.\n",
    "\n",
    "    tiempos = []\n",
    "    costos_caminos = []\n",
    "    for i in range(T):\n",
    "        if experimento[3][0:4] == 'TABU':#tabu tiene su correr experimentos diferenciado\n",
    "            resultados = correr_experimento_tabu(experimento[3], str(experimento[6]), str(experimento[7]), str(experimento[8]), experimento[4]);\n",
    "            tiempos.append(resultados[0]);\n",
    "            costos_caminos.append(resultados[1]);\n",
    "        else:\n",
    "            resultados = correr_experimento(experimento[3], experimento[4]);\n",
    "            tiempos.append(resultados[0]);\n",
    "            costos_caminos.append(resultados[1]);\n",
    "    tiempo = np.median(tiempos);\n",
    "    obtenido = np.median(costos_caminos);\n",
    "    \n",
    "    if(experimento[0]==\"aleatorias\" or experimento[0] == \"aleatorias-complejidad\"):#si es aleatorio no tenemos los resultados verdaderos\n",
    "        optimo = '-'\n",
    "        gap_relativo = '-'\n",
    "        \n",
    "    if(experimento[0]==\"instancias-tsplib\"):#para las instancias de tsplib tenemos los resutados optimos para comparar\n",
    "        optimo = experimento[5]\n",
    "        gap_relativo = (obtenido-optimo)/optimo\n",
    "    \n",
    "    if experimento[3][0:4] != 'TABU':#si el metodo no es tabu, el k y la cantidad de iteraciones no importan\n",
    "        iteraciones = '-'\n",
    "        k = '-'\n",
    "        porcentaje = '-'\n",
    "    else:\n",
    "        k = experimento[6]\n",
    "        iteraciones = experimento[7]\n",
    "        porcentaje = experimento[8]\n",
    "    \n",
    "    filas.append([experimento[0], experimento[1], experimento[2], experimento[3], obtenido, optimo, gap_relativo, tiempo, k, iteraciones, porcentaje]);\n",
    "df_resultado = pd.DataFrame(filas, columns=columnas);\n",
    "df_resultado.to_csv(\"resultados/resultado_exp5.csv\", index=False, header=True);"
   ]
  },
  {
   "cell_type": "code",
   "execution_count": null,
   "metadata": {},
   "outputs": [],
   "source": []
  }
 ],
 "metadata": {
  "kernelspec": {
   "display_name": "Python 3",
   "language": "python",
   "name": "python3"
  },
  "language_info": {
   "codemirror_mode": {
    "name": "ipython",
    "version": 3
   },
   "file_extension": ".py",
   "mimetype": "text/x-python",
   "name": "python",
   "nbconvert_exporter": "python",
   "pygments_lexer": "ipython3",
   "version": "3.6.9"
  }
 },
 "nbformat": 4,
 "nbformat_minor": 4
}
