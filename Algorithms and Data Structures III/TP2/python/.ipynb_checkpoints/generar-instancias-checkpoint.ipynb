{
 "cells": [
  {
   "cell_type": "markdown",
   "metadata": {},
   "source": [
    "# Generador de instancias\n",
    "En este notebook está el código para generar los sets de instancias que se usan para experimentar.\n",
    "- Estas instancias van a ser guardadas en la carpeta __instancias__.\n",
    "- Cada set estará en su propia carpeta y tendrá un archivo _indice.csv_ que contendrá información sobre las instancias."
   ]
  },
  {
   "cell_type": "code",
   "execution_count": 2,
   "metadata": {},
   "outputs": [],
   "source": [
    "import random, math\n",
    "import pandas as pd\n",
    "from random import randrange\n",
    "int_max = 999999"
   ]
  },
  {
   "cell_type": "code",
   "execution_count": 3,
   "metadata": {},
   "outputs": [],
   "source": [
    "def save_instance(dataset, instance_name, n, mG, mH, aristas):\n",
    "    with open(F\"instancias/{dataset}/{instance_name}.txt\", \"w\") as f:\n",
    "        print(n, mG, mH, file=f)\n",
    "        for e in aristas:\n",
    "            print(' '.join(str(i) for i in e), file=f, end = '\\n')\n",
    "\n",
    "def save_index(dataset, instances):\n",
    "    with open(F\"instancias/{dataset}/instances.txt\", \"w\") as f:\n",
    "        for instance in instances: \n",
    "            print(instance, file=f)"
   ]
  },
  {
   "cell_type": "markdown",
   "metadata": {},
   "source": [
    "## Dataset 1\n",
    "Crear los csvs para TSP lib"
   ]
  },
  {
   "cell_type": "code",
   "execution_count": 7,
   "metadata": {},
   "outputs": [],
   "source": [
    "filas_indice = []\n",
    "\n",
    "# bays29\n",
    "\n",
    "with open(F\"instancias/tsplib/bays29.tsp.txt\") as f:\n",
    "    data = f.readline();\n",
    "    parametros = data.split(' ')\n",
    "filas_indice.append([\"instancias-tsplib\", parametros[0], parametros[1], 2020, F\"instancias/tsplib/bays29.tsp.txt\"])\n",
    "\n",
    "# berlin52\n",
    "\n",
    "with open(F\"instancias/tsplib/berlin52.tsp.txt\") as f:\n",
    "    data = f.readline();\n",
    "    parametros = data.split(' ')\n",
    "filas_indice.append([\"instancias-tsplib\", parametros[0], parametros[1], 7542, F\"instancias/tsplib/berlin52.tsp.txt\"])\n",
    "\n",
    "# brazil58\n",
    "\n",
    "with open(F\"instancias/tsplib/brazil58.tsp.txt\") as f:\n",
    "    data = f.readline();\n",
    "    parametros = data.split(' ')\n",
    "filas_indice.append([\"instancias-tsplib\", parametros[0], parametros[1], 25395, F\"instancias/tsplib/brazil58.tsp.txt\"])\n",
    "\n",
    "# burma14\n",
    "\n",
    "with open(F\"instancias/tsplib/burma14.tsp.txt\") as f:\n",
    "    data = f.readline();\n",
    "    parametros = data.split(' ')\n",
    "filas_indice.append([\"instancias-tsplib\", parametros[0], parametros[1], 3323, F\"instancias/tsplib/burma14.tsp.txt\"])\n",
    "\n",
    "# ch130.tsp\n",
    "\n",
    "with open(F\"instancias/tsplib/ch130.tsp.txt\") as f:\n",
    "    data = f.readline();\n",
    "    parametros = data.split(' ')\n",
    "filas_indice.append([\"instancias-tsplib\", parametros[0], parametros[1], 6110, F\"instancias/tsplib/ch130.tsp.txt\"])\n",
    "\n",
    "pd.DataFrame(filas_indice, columns=[\"dataset\", \"n\", \"m\", \"optimo\", \"archivo\"]).to_csv(\"instancias/tsplib/indice.csv\", index=False, header=True)"
   ]
  },
  {
   "cell_type": "markdown",
   "metadata": {},
   "source": [
    "## Dataset 2\n",
    "Peor caso de la heurística secuencial."
   ]
  },
  {
   "cell_type": "code",
   "execution_count": 4,
   "metadata": {},
   "outputs": [],
   "source": [
    "# los vertices de la clique van de 1 a k\n",
    "# los vértices de afuera van de k+1 a 2k\n",
    "\n",
    "def caso_malo_sec(k):\n",
    "    aristas = []\n",
    "    # aristas en G\n",
    "    for i in range(k + 1, 2 * k):\n",
    "        aristas.append([i, i + 1])\n",
    "    aristas.append([k + 1, 2 * k])\n",
    "    #aristas en H\n",
    "    for j in range(1, k + 1):\n",
    "        for l in range(k, j, -1):\n",
    "            aristas.append([j, l])\n",
    "        aristas.append([j, k + j]) #arista patita\n",
    "    return aristas\n",
    "\n",
    "filas_indice = []\n",
    "for k in range(2,60,2):\n",
    "    n = 2 * k\n",
    "    mG = k\n",
    "    mH = k + (k * (k - 1)) // 2\n",
    "    aristas = caso_malo_sec(k)\n",
    "    save_instance(\"caso-malo-sec\", F\"SEC-MALO-{k}\", n, mG, mH, aristas)\n",
    "    filas_indice.append([\"caso-malo-sec\", k, n, mG, mH, F\"instancias/caso-malo-sec/SEC-MALO-{k}.txt\"])\n",
    "pd.DataFrame(filas_indice, columns=[\"dataset\",\"k\", \"n\", \"mG\", \"mH\", \"archivo\"]).to_csv(\"instancias/caso-malo-sec/indice.csv\", index=False, header=True)"
   ]
  },
  {
   "cell_type": "markdown",
   "metadata": {},
   "source": [
    "## Dataset 3\n",
    "Peor caso de la heurística basada en los colores de las vecindades."
   ]
  },
  {
   "cell_type": "code",
   "execution_count": 5,
   "metadata": {},
   "outputs": [],
   "source": [
    "# vértice de la columna 1 es el 1, el de la 2 el 2\n",
    "# los vértices de la columna 3 son el 3 y el 4\n",
    "# los vértices de la columna 4 van del 5 al 4 + k    \n",
    "\n",
    "def caso_malo_vec(k):\n",
    "    aristas = []\n",
    "    # aristas en G\n",
    "    aristas.append([1,2])\n",
    "    aristas.append([2,3])\n",
    "    aristas.append([2,4])\n",
    "    for i in range(5, 4 + k + 1):\n",
    "        aristas.append([3, i])\n",
    "        aristas.append([4, i])\n",
    "    #aristas en H\n",
    "    aristas.append([1, 5])\n",
    "    for j in range(5, 4 + k + 1):\n",
    "        aristas.append([2, j])\n",
    "    return aristas\n",
    "\n",
    "filas_indice = []\n",
    "for k in range(1,31):\n",
    "    n = 4 + k\n",
    "    mG = 1 + 2 + 2 * k\n",
    "    mH = k + 1\n",
    "    aristas = caso_malo_vec(k)\n",
    "    save_instance(\"caso-malo-vec\", F\"VEC-MALO-{k}\", n, mG, mH, aristas)\n",
    "    filas_indice.append([\"caso-malo-vec\", k, n, mG, mH, F\"instancias/caso-malo-vec/VEC-MALO-{k}.txt\"])\n",
    "pd.DataFrame(filas_indice, columns=[\"dataset\",\"k\", \"n\", \"mG\", \"mH\", \"archivo\"]).to_csv(\"instancias/caso-malo-vec/indice.csv\", index=False, header=True)"
   ]
  }
 ],
 "metadata": {
  "kernelspec": {
   "display_name": "Python 3",
   "language": "python",
   "name": "python3"
  },
  "language_info": {
   "codemirror_mode": {
    "name": "ipython",
    "version": 3
   },
   "file_extension": ".py",
   "mimetype": "text/x-python",
   "name": "python",
   "nbconvert_exporter": "python",
   "pygments_lexer": "ipython3",
   "version": "3.8.5"
  }
 },
 "nbformat": 4,
 "nbformat_minor": 4
}
