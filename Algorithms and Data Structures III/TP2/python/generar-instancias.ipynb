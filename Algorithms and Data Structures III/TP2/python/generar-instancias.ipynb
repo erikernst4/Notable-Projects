{
 "cells": [
  {
   "cell_type": "markdown",
   "metadata": {},
   "source": [
    "# Generador de instancias\n",
    "En este notebook está el código para generar los sets de instancias que se usan para experimentar.\n",
    "- Estas instancias van a ser guardadas en la carpeta __instancias__.\n",
    "- Cada set estará en su propia carpeta y tendrá un archivo _indice.csv_ que contendrá información sobre las instancias."
   ]
  },
  {
   "cell_type": "code",
   "execution_count": 2,
   "metadata": {},
   "outputs": [],
   "source": [
    "import random, math\n",
    "import pandas as pd\n",
    "from random import randrange\n",
    "import itertools\n",
    "int_max = 999999"
   ]
  },
  {
   "cell_type": "code",
   "execution_count": 3,
   "metadata": {},
   "outputs": [],
   "source": [
    "def save_instance(dataset, instance_name, n, m, aristas):\n",
    "    with open(F\"instancias/{dataset}/{instance_name}.txt\", \"w\") as f:\n",
    "        print(n, m, file=f)\n",
    "        for e in aristas:\n",
    "            print(' '.join(str(i) for i in e), file=f, end = '\\n')\n",
    "\n",
    "def save_index(dataset, instances):\n",
    "    with open(F\"instancias/{dataset}/instances.txt\", \"w\") as f:\n",
    "        for instance in instances: \n",
    "            print(instance, file=f)"
   ]
  },
  {
   "cell_type": "markdown",
   "metadata": {},
   "source": [
    "## Dataset 1\n",
    "Crear los csvs para tsplib"
   ]
  },
  {
   "cell_type": "code",
   "execution_count": 5,
   "metadata": {},
   "outputs": [],
   "source": [
    "filas_indice = []\n",
    "\n",
    "# bays29\n",
    "\n",
    "with open(F\"instancias/tsplib/bays29.tsp.txt\") as f:\n",
    "    data = f.readline();\n",
    "    parametros = data.split(' ')\n",
    "filas_indice.append([\"instancias-tsplib\", parametros[0], parametros[1], 2020, F\"instancias/tsplib/bays29.tsp.txt\"])\n",
    "\n",
    "# berlin52\n",
    "\n",
    "with open(F\"instancias/tsplib/berlin52.tsp.txt\") as f:\n",
    "    data = f.readline();\n",
    "    parametros = data.split(' ')\n",
    "filas_indice.append([\"instancias-tsplib\", parametros[0], parametros[1], 7542, F\"instancias/tsplib/berlin52.tsp.txt\"])\n",
    "\n",
    "# burma14\n",
    "\n",
    "with open(F\"instancias/tsplib/burma14.tsp.txt\") as f:\n",
    "    data = f.readline();\n",
    "    parametros = data.split(' ')\n",
    "filas_indice.append([\"instancias-tsplib\", parametros[0], parametros[1], 3323, F\"instancias/tsplib/burma14.tsp.txt\"])\n",
    "\n",
    "# ch130.tsp\n",
    "\n",
    "with open(F\"instancias/tsplib/ch130.tsp.txt\") as f:\n",
    "    data = f.readline();\n",
    "    parametros = data.split(' ')\n",
    "filas_indice.append([\"instancias-tsplib\", parametros[0], parametros[1], 6110, F\"instancias/tsplib/ch130.tsp.txt\"])\n",
    "\n",
    "# rat575.tsp\n",
    "\n",
    "with open(F\"instancias/tsplib/rat575.tsp.txt\") as f:\n",
    "    data = f.readline();\n",
    "    parametros = data.split(' ')\n",
    "filas_indice.append([\"instancias-tsplib\", parametros[0], parametros[1], 6773, F\"instancias/tsplib/rat575.tsp.txt\"])\n",
    "\n",
    "# pa561.tsp\n",
    "\n",
    "with open(F\"instancias/tsplib/pa561.tsp.txt\") as f:\n",
    "    data = f.readline();\n",
    "    parametros = data.split(' ')\n",
    "filas_indice.append([\"instancias-tsplib\", parametros[0], parametros[1], 2763, F\"instancias/tsplib/pa561.tsp.txt\"])\n",
    "\n",
    "# a280.tsp\n",
    "\n",
    "with open(F\"instancias/tsplib/a280.tsp.txt\") as f:\n",
    "    data = f.readline();\n",
    "    parametros = data.split(' ')\n",
    "filas_indice.append([\"instancias-tsplib\", parametros[0], parametros[1], 2579, F\"instancias/tsplib/a280.tsp.txt\"])\n",
    "\n",
    "# kroA200.tsp\n",
    "\n",
    "with open(F\"instancias/tsplib/kroA200.tsp.txt\") as f:\n",
    "    data = f.readline();\n",
    "    parametros = data.split(' ')\n",
    "filas_indice.append([\"instancias-tsplib\", parametros[0], parametros[1], 29368, F\"instancias/tsplib/kroA200.tsp.txt\"])\n",
    "\n",
    "# lin318.tsp\n",
    "\n",
    "with open(F\"instancias/tsplib/lin318.tsp.txt\") as f:\n",
    "    data = f.readline();\n",
    "    parametros = data.split(' ')\n",
    "filas_indice.append([\"instancias-tsplib\", parametros[0], parametros[1], 42029, F\"instancias/tsplib/lin318.tsp.txt\"])\n",
    "\n",
    "pd.DataFrame(filas_indice, columns=[\"dataset\", \"n\", \"m\", \"optimo\", \"archivo\"]).to_csv(\"instancias/tsplib/indice.csv\", index=False, header=True)"
   ]
  },
  {
   "cell_type": "markdown",
   "metadata": {},
   "source": [
    "## Dataset 2\n",
    "Instancias aleatorias con los pesos generados en el rango 1...n"
   ]
  },
  {
   "cell_type": "code",
   "execution_count": 4,
   "metadata": {},
   "outputs": [],
   "source": [
    "filas_indice = []\n",
    "for k in range(10,110,10):\n",
    "    for i in range(10):\n",
    "        n = k\n",
    "        m = (n * (n - 1)) // 2\n",
    "        aristas = list(itertools.combinations(range(1,n+1), 2))\n",
    "        aristasPeso = []\n",
    "        for e in aristas:\n",
    "            aristasPeso.append([e[0],e[1],randrange(n)])\n",
    "        save_instance(\"aleatorias\", F\"RAND-{n,i}\", n, m, aristasPeso)\n",
    "        filas_indice.append([\"aleatorias\", n, m, F\"instancias/aleatorias/RAND-{n,i}.txt\"])\n",
    "pd.DataFrame(filas_indice, columns=[\"dataset\",\"n\", \"m\", \"archivo\"]).to_csv(\"instancias/aleatorias/indice.csv\", index=False, header=True)"
   ]
  },
  {
   "cell_type": "markdown",
   "metadata": {},
   "source": [
    "aleatoria complejidad"
   ]
  },
  {
   "cell_type": "code",
   "execution_count": 5,
   "metadata": {},
   "outputs": [],
   "source": [
    "filas_indice = []\n",
    "for k in range(3,110):\n",
    "    n = k\n",
    "    m = (n * (n - 1)) // 2\n",
    "    aristas = list(itertools.combinations(range(1,n+1), 2))\n",
    "    aristasPeso = []\n",
    "    for e in aristas:\n",
    "        aristasPeso.append([e[0],e[1],randrange(n)])\n",
    "    save_instance(\"aleatorias/complejidad\", F\"RAND-C-{n}\", n, m, aristasPeso)\n",
    "    filas_indice.append([\"aleatorias-complejidad\", n, m, F\"instancias/aleatorias/complejidad/RAND-C-{n}.txt\"])\n",
    "pd.DataFrame(filas_indice, columns=[\"dataset\",\"n\", \"m\", \"archivo\"]).to_csv(\"instancias/aleatorias/complejidad/indice.csv\", index=False, header=True)"
   ]
  },
  {
   "cell_type": "markdown",
   "metadata": {},
   "source": [
    "### Casos malos AGM y VEC"
   ]
  },
  {
   "cell_type": "code",
   "execution_count": 14,
   "metadata": {},
   "outputs": [],
   "source": [
    "filas_indice = []\n",
    "for i in range(4,100):\n",
    "    k = i**2\n",
    "    n = i\n",
    "    m = (n * (n - 1)) // 2\n",
    "    aristas = list(itertools.combinations(range(1,n+1), 2))\n",
    "    aristasPeso = []\n",
    "    for e in aristas:\n",
    "        if e[0]==e[1]+1 or e[1]==e[0]+1 : # si es una arista del tipo (v,v1+)\n",
    "            peso = 1\n",
    "        elif e==(n,1) or e==(1,n) :\n",
    "            peso = k\n",
    "        else :\n",
    "            peso = 2\n",
    "        aristasPeso.append([e[0],e[1],peso])\n",
    "    save_instance(\"malo-agm-vec\", F\"MALO-AGM-VEC-{n,k}\", n, m, aristasPeso)\n",
    "    filas_indice.append([\"malo-agm-vec\", n, m, k,k+n-1,4+n-2, F\"instancias/malo-agm-vec/MALO-AGM-VEC-{n,k}.txt\"])\n",
    "pd.DataFrame(filas_indice, columns=[\"dataset\",\"n\", \"m\", \"k\",\"esperado\",\"optimo\", \"archivo\"]).to_csv(\"instancias/malo-agm-vec/indice.csv\", index=False, header=True)"
   ]
  },
  {
   "cell_type": "code",
   "execution_count": null,
   "metadata": {},
   "outputs": [],
   "source": []
  }
 ],
 "metadata": {
  "kernelspec": {
   "display_name": "Python 3",
   "language": "python",
   "name": "python3"
  },
  "language_info": {
   "codemirror_mode": {
    "name": "ipython",
    "version": 3
   },
   "file_extension": ".py",
   "mimetype": "text/x-python",
   "name": "python",
   "nbconvert_exporter": "python",
   "pygments_lexer": "ipython3",
   "version": "3.8.5"
  }
 },
 "nbformat": 4,
 "nbformat_minor": 4
}
