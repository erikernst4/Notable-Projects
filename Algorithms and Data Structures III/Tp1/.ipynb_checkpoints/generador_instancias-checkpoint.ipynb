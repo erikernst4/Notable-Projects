{
 "cells": [
  {
   "cell_type": "code",
   "execution_count": 14,
   "metadata": {},
   "outputs": [],
   "source": [
    "import pandas as pd\n",
    "import numpy as np"
   ]
  },
  {
   "cell_type": "code",
   "execution_count": 30,
   "metadata": {},
   "outputs": [],
   "source": [
    "def save_instance(dataset, instance_name, n, R, w, r):\n",
    "    with open(F\"instancias/{dataset}/{instance_name}.txt\", \"w\") as f:\n",
    "        print(n, R, \"\\n\" file=f)\n",
    "        for i in range(n): \n",
    "            print(w[i], file=f)\n",
    "            print(r[i], file=f)\n",
    "\n",
    "def save_index(dataset, instances):\n",
    "    with open(F\"instancias/{dataset}/instances.txt\", \"w\") as f:\n",
    "        for instance in instances: \n",
    "            print(instance, file=f)"
   ]
  },
  {
   "cell_type": "code",
   "execution_count": 31,
   "metadata": {},
   "outputs": [],
   "source": [
    "def random(n):\n",
    "    R = n * 2\n",
    "    w = []\n",
    "    r = []\n",
    "    for i in range(n):\n",
    "        w_i = np.random.randint(1, 15)\n",
    "        r_i = np.random.randint(1, R)\n",
    "        w.append(w_i)\n",
    "        r.append(r_i)\n",
    "    return R, w, r    \n",
    "\n",
    "filas_indice = []\n",
    "for i in range(1, 100):\n",
    "    R, w, r = random(i)    \n",
    "    save_instance(\"caso-random\", F\"RANDOM-{i}\", i, R, w, r)\n",
    "    filas_indice.append([\"caso-random\", F\"RANDOM-{i}\", i, R, F\"instancias/caso-random/RANDOM-{i}.txt\"])\n",
    "    \n",
    "pd.DataFrame(filas_indice, columns=[\"dataset\", \"instancia\", \"n\", \"R\", \"archivo\"]).to_csv(\"instancias/caso-random/indice.csv\", index=False, header=True)        "
   ]
  },
  {
   "cell_type": "code",
   "execution_count": null,
   "metadata": {},
   "outputs": [],
   "source": []
  }
 ],
 "metadata": {
  "kernelspec": {
   "display_name": "Python 3",
   "language": "python",
   "name": "python3"
  },
  "language_info": {
   "codemirror_mode": {
    "name": "ipython",
    "version": 3
   },
   "file_extension": ".py",
   "mimetype": "text/x-python",
   "name": "python",
   "nbconvert_exporter": "python",
   "pygments_lexer": "ipython3",
   "version": "3.7.3"
  }
 },
 "nbformat": 4,
 "nbformat_minor": 2
}
