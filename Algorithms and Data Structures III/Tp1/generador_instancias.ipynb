{
 "cells": [
  {
   "cell_type": "code",
   "execution_count": 1,
   "metadata": {},
   "outputs": [],
   "source": [
    "import pandas as pd\n",
    "import numpy as np"
   ]
  },
  {
   "cell_type": "code",
   "execution_count": 2,
   "metadata": {},
   "outputs": [],
   "source": [
    "def save_instance(dataset, instance_name, n, R, w, r):\n",
    "    with open(F\"instancias/{dataset}/{instance_name}.txt\", \"w\") as f:\n",
    "        print(n, R, file=f)\n",
    "        for i in range(n): \n",
    "            print(w[i], r[i], file=f)\n",
    "\n",
    "def save_index(dataset, instances):\n",
    "    with open(F\"instancias/{dataset}/instances.txt\", \"w\") as f:\n",
    "        for instance in instances: \n",
    "            print(instance, file=f)"
   ]
  },
  {
   "cell_type": "code",
   "execution_count": 3,
   "metadata": {},
   "outputs": [],
   "source": [
    "def random(n):\n",
    "    R = n * 2\n",
    "    w = []\n",
    "    r = []\n",
    "    for i in range(n):\n",
    "        w_i = np.random.randint(1, 15)\n",
    "        r_i = np.random.randint(1, R)\n",
    "        w.append(w_i)\n",
    "        r.append(r_i)\n",
    "    return R, w, r    \n",
    "\n",
    "filas_indice = []\n",
    "for i in range(1, 100):\n",
    "    R, w, r = random(i)    \n",
    "    save_instance(\"caso-random\", F\"RANDOM-{i}\", i, R, w, r)\n",
    "    filas_indice.append([\"caso-random\", F\"RANDOM-{i}\", i, R, F\"instancias/caso-random/RANDOM-{i}.txt\"])\n",
    "    \n",
    "pd.DataFrame(filas_indice, columns=[\"dataset\", \"instancia\", \"n\", \"R\", \"archivo\"]).to_csv(\"instancias/caso-random/indice.csv\", index=False, header=True)        "
   ]
  },
  {
   "cell_type": "code",
   "execution_count": 4,
   "metadata": {},
   "outputs": [],
   "source": [
    "def mejor_caso_bt(n):\n",
    "    R = 40\n",
    "    w = []\n",
    "    r = []\n",
    "    for i in range(n):\n",
    "        w_i = R\n",
    "        r_i = R\n",
    "        w.append(w_i)\n",
    "        r.append(r_i)\n",
    "    return R, w, r\n",
    "\n",
    "filas_indice = []\n",
    "for i in range(1, 100):\n",
    "    R, w, r = mejor_caso_bt(i)\n",
    "    save_instance(\"mejor-caso-bt\", F\"MC-BT-{i}\", i, R, w, r)\n",
    "    filas_indice.append([\"mejor-caso-bt\", F\"MC-BT-{i}\", i, R, F\"instancias/mejor-caso-bt/MC-BT-{i}.txt\"])\n",
    "\n",
    "pd.DataFrame(filas_indice, columns=[\"dataset\", \"instancia\", \"n\", \"R\", \"archivo\"]).to_csv(\"instancias/mejor-caso-bt/indice.csv\", index=False, header=True)"
   ]
  },
  {
   "cell_type": "code",
   "execution_count": null,
   "metadata": {},
   "outputs": [],
   "source": []
  }
 ],
 "metadata": {
  "kernelspec": {
   "display_name": "Python 3",
   "language": "python",
   "name": "python3"
  },
  "language_info": {
   "codemirror_mode": {
    "name": "ipython",
    "version": 3
   },
   "file_extension": ".py",
   "mimetype": "text/x-python",
   "name": "python",
   "nbconvert_exporter": "python",
   "pygments_lexer": "ipython3",
   "version": "3.7.9"
  }
 },
 "nbformat": 4,
 "nbformat_minor": 2
}
